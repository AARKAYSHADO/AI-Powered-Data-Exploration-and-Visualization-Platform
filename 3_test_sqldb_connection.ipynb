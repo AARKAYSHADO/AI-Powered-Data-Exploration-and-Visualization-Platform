{
 "cells": [
  {
   "cell_type": "code",
   "execution_count": 10,
   "id": "870c09f3-9c38-48ec-b2aa-f84e6f6b1c75",
   "metadata": {},
   "outputs": [],
   "source": [
    "from pyprojroot import here\n",
    "db_path = \"data/sqldb\""
   ]
  },
  {
   "cell_type": "code",
   "execution_count": 11,
   "id": "990d14c8-517f-46c6-b8e2-74fc30554ddd",
   "metadata": {},
   "outputs": [
    {
     "name": "stdout",
     "output_type": "stream",
     "text": [
      "sqlite\n",
      "['customer_data', 'partner_data', 'transaction_data']\n"
     ]
    }
   ],
   "source": [
    "from langchain_community.utilities import SQLDatabase\n",
    "db = SQLDatabase.from_uri(f\"sqlite:///{db_path}\")\n",
    "print(db.dialect)\n",
    "print(db.get_usable_table_names())"
   ]
  },
  {
   "cell_type": "code",
   "execution_count": 13,
   "id": "4e296ef7-c3ae-47ea-b401-eae6dfc22091",
   "metadata": {},
   "outputs": [
    {
     "data": {
      "text/plain": [
       "\"[(9001, 'American Airlines', 'AA'), (9002, 'Jetblue', 'JB'), (9003, 'GAP', 'GAP'), (9004, 'Barclaycard', 'BC'), (9005, 'Wyndham', 'WY')]\""
      ]
     },
     "execution_count": 13,
     "metadata": {},
     "output_type": "execute_result"
    }
   ],
   "source": [
    "db.run(\"SELECT * FROM partner_data LIMIT 10;\")"
   ]
  },
  {
   "cell_type": "code",
   "execution_count": 14,
   "id": "81d55a33-54e0-404d-947e-55798e330517",
   "metadata": {},
   "outputs": [
    {
     "data": {
      "text/plain": [
       "\"[(10001, 'Sankar', 'New York'), (10002, 'Ragul', 'Los Angeles'), (10003, 'Aswin', 'Boston'), (10004, 'Sriram', 'Seattle'), (10005, 'Rinika', 'Chicago'), (10006, 'Ponvignesh', 'Los Angeles'), (10007, 'Ramakrishnan', 'New York'), (10008, 'Yogan', 'Los Angeles'), (10009, 'Subrat', 'Chicago'), (10010, 'Suriya', 'New York')]\""
      ]
     },
     "execution_count": 14,
     "metadata": {},
     "output_type": "execute_result"
    }
   ],
   "source": [
    "db.run(\"SELECT * FROM customer_data LIMIT 10;\")"
   ]
  },
  {
   "cell_type": "code",
   "execution_count": 12,
   "id": "e36d847e-83b5-4e8b-9eb3-368b41927058",
   "metadata": {},
   "outputs": [
    {
     "data": {
      "text/plain": [
       "\"[(10001, 9001, 100, '6/15/2024', 'success'), (10002, 9003, 150, '4/16/2024', 'failed'), (10003, 9002, 90, '3/17/2024', 'success'), (10004, 9004, 50, '6/18/2024', 'success'), (10005, 9001, 200, '4/19/2024', 'success'), (10006, 9003, 250, '7/20/2024', 'success'), (10007, 9002, 180, '5/21/2024', 'failed'), (10008, 9004, 100, '6/22/2024', 'success'), (10009, 9001, 150, '7/23/2024', 'success'), (10010, 9003, 200, '4/24/2024', 'failed')]\""
      ]
     },
     "execution_count": 12,
     "metadata": {},
     "output_type": "execute_result"
    }
   ],
   "source": [
    "db.run(\"SELECT * FROM transaction_data LIMIT 10;\")"
   ]
  }
 ],
 "metadata": {
  "kernelspec": {
   "display_name": "Python 3 (ipykernel)",
   "language": "python",
   "name": "python3"
  },
  "language_info": {
   "codemirror_mode": {
    "name": "ipython",
    "version": 3
   },
   "file_extension": ".py",
   "mimetype": "text/x-python",
   "name": "python",
   "nbconvert_exporter": "python",
   "pygments_lexer": "ipython3",
   "version": "3.11.10"
  }
 },
 "nbformat": 4,
 "nbformat_minor": 5
}
