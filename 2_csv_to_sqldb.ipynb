{
 "cells": [
  {
   "cell_type": "markdown",
   "id": "e689fa34-5544-4390-ad76-5b2848c8efd8",
   "metadata": {},
   "source": [
    "### Create SQL DB"
   ]
  },
  {
   "cell_type": "code",
   "execution_count": 4,
   "id": "703419fa-9461-458d-b131-71b70f064acc",
   "metadata": {},
   "outputs": [],
   "source": [
    "import sqlite3\n",
    "\n",
    "def create_database(db_file):\n",
    "    \"\"\"Creates an SQLite database file.\"\"\"\n",
    "    conn = sqlite3.connect(db_file)\n",
    "    conn.close()\n",
    "\n",
    "# Example usage:\n",
    "db_file = 'data/sqldb'\n",
    "\n",
    "# Create the database file\n",
    "create_database(db_file)"
   ]
  },
  {
   "cell_type": "code",
   "execution_count": 5,
   "id": "ea85a2c2-4b97-4e2d-9d1f-399c7f216fee",
   "metadata": {},
   "outputs": [
    {
     "name": "stdout",
     "output_type": "stream",
     "text": [
      "Database file 'data/sqldb' exists.\n"
     ]
    }
   ],
   "source": [
    "import os\n",
    "\n",
    "db_file = 'data/sqldb'\n",
    "\n",
    "if os.path.exists(db_file):\n",
    "    print(f\"Database file '{db_file}' exists.\")\n",
    "else:\n",
    "    print(f\"Database file '{db_file}' does not exist.\")"
   ]
  },
  {
   "cell_type": "markdown",
   "id": "2ea6ef5c-a212-4cf4-8603-bc299aa91e63",
   "metadata": {},
   "source": [
    "### CSV to SQL table"
   ]
  },
  {
   "cell_type": "code",
   "execution_count": 6,
   "id": "c72c9491-620e-4cf2-9376-0ca6f6cd41e5",
   "metadata": {},
   "outputs": [
    {
     "name": "stderr",
     "output_type": "stream",
     "text": [
      "C:\\Users\\Sankar\\AppData\\Local\\Temp\\ipykernel_19304\\250803852.py:25: UserWarning: Could not infer format, so each element will be parsed individually, falling back to `dateutil`. To ensure parsing is consistent and as-expected, please specify a format.\n",
      "  df[col] = pd.to_datetime(df[col])\n",
      "C:\\Users\\Sankar\\AppData\\Local\\Temp\\ipykernel_19304\\250803852.py:25: UserWarning: Could not infer format, so each element will be parsed individually, falling back to `dateutil`. To ensure parsing is consistent and as-expected, please specify a format.\n",
      "  df[col] = pd.to_datetime(df[col])\n"
     ]
    },
    {
     "name": "stdout",
     "output_type": "stream",
     "text": [
      "Failed to convert customer_name to datetime\n",
      "Failed to convert city to datetime\n"
     ]
    },
    {
     "name": "stderr",
     "output_type": "stream",
     "text": [
      "C:\\Users\\Sankar\\AppData\\Local\\Temp\\ipykernel_19304\\250803852.py:25: UserWarning: Could not infer format, so each element will be parsed individually, falling back to `dateutil`. To ensure parsing is consistent and as-expected, please specify a format.\n",
      "  df[col] = pd.to_datetime(df[col])\n",
      "C:\\Users\\Sankar\\AppData\\Local\\Temp\\ipykernel_19304\\250803852.py:25: UserWarning: Could not infer format, so each element will be parsed individually, falling back to `dateutil`. To ensure parsing is consistent and as-expected, please specify a format.\n",
      "  df[col] = pd.to_datetime(df[col])\n"
     ]
    },
    {
     "name": "stdout",
     "output_type": "stream",
     "text": [
      "Failed to convert partner_name to datetime\n",
      "Failed to convert partner_code to datetime\n"
     ]
    },
    {
     "name": "stderr",
     "output_type": "stream",
     "text": [
      "C:\\Users\\Sankar\\AppData\\Local\\Temp\\ipykernel_19304\\250803852.py:25: UserWarning: Could not infer format, so each element will be parsed individually, falling back to `dateutil`. To ensure parsing is consistent and as-expected, please specify a format.\n",
      "  df[col] = pd.to_datetime(df[col])\n"
     ]
    },
    {
     "name": "stdout",
     "output_type": "stream",
     "text": [
      "Failed to convert tran_status to datetime\n"
     ]
    }
   ],
   "source": [
    "import pandas as pd\n",
    "from sqlalchemy import create_engine\n",
    "\n",
    "def csv_to_sqlite(csv_directory, db_file):\n",
    "    \"\"\"\n",
    "    Converts CSV files in a directory to an SQLite database.\n",
    "    Args:\n",
    "        csv_directory (str): Path to the directory containing CSV files.\n",
    "        db_file (str): Path to the output SQLite database file.\n",
    "    \"\"\"\n",
    "\n",
    "    engine = create_engine(f'sqlite:///{db_file}')\n",
    "\n",
    "    for filename in os.listdir(csv_directory):\n",
    "        if filename.endswith('.csv'):\n",
    "            file_path = os.path.join(csv_directory, filename)\n",
    "            df = pd.read_csv(file_path)\n",
    "            \n",
    "            # Identify date columns using pandas' infer_datetime_format\n",
    "            date_cols = df.select_dtypes(include=['datetime', 'datetime64', 'object']).columns\n",
    "\n",
    "            # Convert identified date columns to datetime objects\n",
    "            for col in date_cols:\n",
    "                try:\n",
    "                    df[col] = pd.to_datetime(df[col])\n",
    "                except ValueError:\n",
    "                    # Handle potential conversion errors, e.g., log or skip\n",
    "                    print(f\"Failed to convert {col} to datetime\")\n",
    "                \n",
    "            table_name = filename.split('.')[0]  # Extract table name from filename\n",
    "            df.to_sql(table_name, engine, index=False, if_exists='replace')\n",
    "\n",
    "# Example usage:\n",
    "csv_directory = 'data/csv'\n",
    "db_file = 'data/sqldb'\n",
    "\n",
    "csv_to_sqlite(csv_directory, db_file)"
   ]
  },
  {
   "cell_type": "markdown",
   "id": "ba00af58-247a-44c8-91ab-7ba3cdceff03",
   "metadata": {},
   "source": [
    "### Select the created tables and display Results"
   ]
  },
  {
   "cell_type": "code",
   "execution_count": 7,
   "id": "646f53ee-a226-41bd-b694-6329caea728b",
   "metadata": {},
   "outputs": [
    {
     "name": "stdout",
     "output_type": "stream",
     "text": [
      "customer_data\n",
      "partner_data\n",
      "transaction_data\n"
     ]
    }
   ],
   "source": [
    "def list_tables(db_file):\n",
    "    conn = sqlite3.connect(db_file)\n",
    "    cursor = conn.cursor()\n",
    "\n",
    "    cursor.execute(\"SELECT name FROM sqlite_master WHERE type='table'\")\n",
    "    table_names = cursor.fetchall()\n",
    "\n",
    "    for table_name in table_names:\n",
    "        print(table_name[0])\n",
    "\n",
    "    conn.close()\n",
    "\n",
    "# Example usage:\n",
    "db_file = 'data/sqldb'\n",
    "\n",
    "# List tables\n",
    "list_tables(db_file)"
   ]
  },
  {
   "cell_type": "code",
   "execution_count": 8,
   "id": "3a5a554a-77e2-490d-a689-a17b58759251",
   "metadata": {
    "scrolled": true
   },
   "outputs": [
    {
     "name": "stdout",
     "output_type": "stream",
     "text": [
      "(10001, 'Sankar', 'New York')\n",
      "(10002, 'Ragul', 'Los Angeles')\n",
      "(10003, 'Aswin', 'Boston')\n",
      "(10004, 'Sriram', 'Seattle')\n",
      "(10005, 'Rinika', 'Chicago')\n",
      "(10006, 'Ponvignesh', 'Los Angeles')\n",
      "(10007, 'Ramakrishnan', 'New York')\n",
      "(10008, 'Yogan', 'Los Angeles')\n",
      "(10009, 'Subrat', 'Chicago')\n",
      "(10010, 'Suriya', 'New York')\n",
      "(10011, 'Ishwarya', 'Los Angeles')\n",
      "(10012, 'Swetha', 'Boston')\n",
      "(10013, 'Kavya', 'Seattle')\n",
      "(10014, 'Ken', 'New York')\n"
     ]
    }
   ],
   "source": [
    "def query_table(db_file, table_name):\n",
    "    conn = sqlite3.connect(db_file)\n",
    "    cursor = conn.cursor()\n",
    "\n",
    "    cursor.execute(f\"SELECT * FROM {table_name}\")\n",
    "    rows = cursor.fetchall()\n",
    "\n",
    "    for row in rows:\n",
    "        print(row)\n",
    "\n",
    "    conn.close()\n",
    "\n",
    "# Example usage:\n",
    "db_file = 'data/sqldb'\n",
    "\n",
    "# Query a specific table\n",
    "table_name = 'customer_data'  # Replace with the actual table name\n",
    "query_table(db_file, table_name)"
   ]
  },
  {
   "cell_type": "markdown",
   "id": "30717da2-4ac3-4e7b-bce4-8431710d4ba0",
   "metadata": {},
   "source": [
    "### Get Schema"
   ]
  },
  {
   "cell_type": "code",
   "execution_count": 9,
   "id": "760b75b0-55b6-4942-9be4-d77bdef9afbc",
   "metadata": {},
   "outputs": [
    {
     "name": "stdout",
     "output_type": "stream",
     "text": [
      "\n",
      "Table: customer_data\n",
      "  - customer_id (BIGINT)\n",
      "  - customer_name (TEXT)\n",
      "  - city (TEXT)\n",
      "\n",
      "Table: partner_data\n",
      "  - partner_id (BIGINT)\n",
      "  - partner_name (TEXT)\n",
      "  - partner_code (TEXT)\n",
      "\n",
      "Table: transaction_data\n",
      "  - customer_id (BIGINT)\n",
      "  - partner_id (BIGINT)\n",
      "  - tran_amt (BIGINT)\n",
      "  - tran_dt (DATETIME)\n",
      "  - tran_status (TEXT)\n"
     ]
    }
   ],
   "source": [
    "import sqlite3\n",
    "\n",
    "def print_table_schema(db_file):\n",
    "    \"\"\"Prints the schema of all tables in an SQLite database.\n",
    "\n",
    "    Args:\n",
    "        db_file (str): Path to the SQLite database file.\n",
    "    \"\"\"\n",
    "\n",
    "    conn = sqlite3.connect(db_file)\n",
    "    cursor = conn.cursor()\n",
    "\n",
    "    # Get a list of all table names\n",
    "    cursor.execute(\"SELECT name FROM sqlite_master WHERE type='table'\")\n",
    "    table_names = cursor.fetchall()\n",
    "\n",
    "    for table_name in table_names:\n",
    "        table_name = table_name[0]  # Extract the table name from the tuple\n",
    "        print(f\"\\nTable: {table_name}\")\n",
    "\n",
    "        # Get the column information for the table\n",
    "        cursor.execute(f\"PRAGMA table_info('{table_name}')\")\n",
    "        columns = cursor.fetchall()\n",
    "\n",
    "        for column in columns:\n",
    "            cid, name, type_, notnull, dflt_value, pk = column\n",
    "            print(f\"  - {name} ({type_})\")\n",
    "    conn.close()\n",
    "\n",
    "# Replace 'your_database.db' with the actual path to your database file\n",
    "db_file = 'data/sqldb'\n",
    "print_table_schema(db_file)"
   ]
  },
  {
   "cell_type": "markdown",
   "id": "8324a277-4be0-488d-9023-716351c45356",
   "metadata": {},
   "source": [
    "### Delete SQL DB"
   ]
  },
  {
   "cell_type": "code",
   "execution_count": 3,
   "id": "930fb3c8-e5cb-425e-b369-c79e50a53d8f",
   "metadata": {},
   "outputs": [
    {
     "name": "stdout",
     "output_type": "stream",
     "text": [
      "Database file 'data/sqldb' deleted successfully.\n"
     ]
    }
   ],
   "source": [
    "import os\n",
    "import sqlite3\n",
    "\n",
    "def delete_database(db_file):\n",
    "    try:\n",
    "        conn = sqlite3.connect(db_file)\n",
    "        conn.close()\n",
    "        os.remove(db_file)\n",
    "        print(f\"Database file '{db_file}' deleted successfully.\")\n",
    "    except Exception as e:\n",
    "        print(f\"Error deleting database: {e}\")\n",
    "\n",
    "# Example usage:\n",
    "db_file = 'data/sqldb'\n",
    "delete_database(db_file)"
   ]
  }
 ],
 "metadata": {
  "kernelspec": {
   "display_name": "Python 3 (ipykernel)",
   "language": "python",
   "name": "python3"
  },
  "language_info": {
   "codemirror_mode": {
    "name": "ipython",
    "version": 3
   },
   "file_extension": ".py",
   "mimetype": "text/x-python",
   "name": "python",
   "nbconvert_exporter": "python",
   "pygments_lexer": "ipython3",
   "version": "3.11.10"
  }
 },
 "nbformat": 4,
 "nbformat_minor": 5
}
