{
 "cells": [
  {
   "cell_type": "markdown",
   "id": "ddaa9108-de26-4871-ae9d-ae15835f6227",
   "metadata": {},
   "source": [
    "### Import Libraries"
   ]
  },
  {
   "cell_type": "code",
   "execution_count": 39,
   "id": "53e47bf8-785c-45a8-98c8-cc9371963de9",
   "metadata": {},
   "outputs": [],
   "source": [
    "from langchain_community.utilities import SQLDatabase\n",
    "from pyprojroot import here\n",
    "import warnings\n",
    "warnings.filterwarnings(\"ignore\")"
   ]
  },
  {
   "cell_type": "markdown",
   "id": "20bec797-acdc-4c56-9cf5-52d8e0309b9d",
   "metadata": {},
   "source": [
    "### Connect to sqldb"
   ]
  },
  {
   "cell_type": "code",
   "execution_count": 40,
   "id": "a1433d06-faee-49b1-8923-cbaab1bbd78b",
   "metadata": {},
   "outputs": [
    {
     "name": "stdout",
     "output_type": "stream",
     "text": [
      "sqlite\n",
      "['customer_data', 'partner_data', 'transaction_data']\n",
      "\n",
      "CREATE TABLE customer_data (\n",
      "\tcustomer_id BIGINT, \n",
      "\tcustomer_name TEXT, \n",
      "\tcity TEXT\n",
      ")\n",
      "\n",
      "/*\n",
      "3 rows from customer_data table:\n",
      "customer_id\tcustomer_name\tcity\n",
      "10001\tSankar\tNew York\n",
      "10002\tRagul\tLos Angeles\n",
      "10003\tAswin\tBoston\n",
      "*/\n",
      "\n",
      "\n",
      "CREATE TABLE partner_data (\n",
      "\tpartner_id BIGINT, \n",
      "\tpartner_name TEXT, \n",
      "\tpartner_code TEXT\n",
      ")\n",
      "\n",
      "/*\n",
      "3 rows from partner_data table:\n",
      "partner_id\tpartner_name\tpartner_code\n",
      "9001\tAmerican Airlines\tAA\n",
      "9002\tJetblue\tJB\n",
      "9003\tGAP\tGAP\n",
      "*/\n",
      "\n",
      "\n",
      "CREATE TABLE transaction_data (\n",
      "\tcustomer_id BIGINT, \n",
      "\tpartner_id BIGINT, \n",
      "\ttran_amt BIGINT, \n",
      "\ttran_dt DATETIME, \n",
      "\ttran_status TEXT\n",
      ")\n",
      "\n",
      "/*\n",
      "3 rows from transaction_data table:\n",
      "customer_id\tpartner_id\ttran_amt\ttran_dt\ttran_status\n",
      "10001\t9001\t100\t2024-06-15 00:00:00\tsuccess\n",
      "10002\t9003\t150\t2024-04-16 00:00:00\tfailed\n",
      "10003\t9002\t90\t2024-03-17 00:00:00\tsuccess\n",
      "*/\n"
     ]
    }
   ],
   "source": [
    "db_path = \"data/sqldb\"\n",
    "db = SQLDatabase.from_uri(f\"sqlite:///{db_path}\")\n",
    "print(db.dialect)\n",
    "print(db.get_usable_table_names())\n",
    "print(db.table_info)"
   ]
  },
  {
   "cell_type": "markdown",
   "id": "c5bca22a-0f61-4d99-a8e2-26fd569f80b1",
   "metadata": {},
   "source": [
    "### Test the access to the environment variables"
   ]
  },
  {
   "cell_type": "code",
   "execution_count": 1,
   "id": "aa514c92-2e8e-4548-9fd7-bf18f051f97e",
   "metadata": {},
   "outputs": [
    {
     "name": "stdout",
     "output_type": "stream",
     "text": [
      "Environment variables are loaded: True\n"
     ]
    }
   ],
   "source": [
    "from dotenv import load_dotenv\n",
    "import os\n",
    "print(\"Environment variables are loaded:\", load_dotenv())\n",
    "#print(\"test by reading a variable:\", os.getenv(\"API_KEY\"))"
   ]
  },
  {
   "cell_type": "markdown",
   "id": "ad5359da-3827-40a1-be02-2bad937a6d64",
   "metadata": {},
   "source": [
    "### Test your GPT model"
   ]
  },
  {
   "cell_type": "code",
   "execution_count": 4,
   "id": "5743cf3c-b13e-42ca-9080-395902ab8a22",
   "metadata": {},
   "outputs": [
    {
     "name": "stdout",
     "output_type": "stream",
     "text": [
      "Hello! How can I assist you today?\n"
     ]
    }
   ],
   "source": [
    "import openai\n",
    "\n",
    "openai.api_key = os.getenv(\"API_KEY\")\n",
    "\n",
    "messages = [\n",
    "    {\"role\": \"system\", \"content\": str(\n",
    "        \"You are a helpful assistant\"\n",
    "    )},\n",
    "    {\"role\": \"user\", \"content\": str(\"hello\")}\n",
    "]\n",
    "\n",
    "# Generate the response\n",
    "response = openai.chat.completions.create(\n",
    "    model=\"gpt-3.5-turbo\",\n",
    "    messages=messages,\n",
    "    max_tokens=500\n",
    ")\n",
    "\n",
    "print(response.choices[0].message.content)"
   ]
  },
  {
   "cell_type": "markdown",
   "id": "c285da76-95a5-434f-bb55-e64b45c93bae",
   "metadata": {},
   "source": [
    "### Load the LLM"
   ]
  },
  {
   "cell_type": "code",
   "execution_count": 4,
   "id": "b668be0a-6078-483c-a8da-35b2646c24ea",
   "metadata": {},
   "outputs": [],
   "source": [
    "#!pip install --upgrade langchain\n",
    "from langchain_openai import ChatOpenAI\n",
    "api_key = os.getenv(\"API_KEY\")\n",
    "\n",
    "llm = ChatOpenAI(\n",
    "    api_key=api_key,\n",
    "    model=\"gpt-3.5-turbo\",\n",
    "    temperature=0.0\n",
    ")"
   ]
  },
  {
   "cell_type": "markdown",
   "id": "139aeae6-d559-4b79-af72-814b7f66808c",
   "metadata": {},
   "source": [
    "### 1. Chain to Generate SQL Query"
   ]
  },
  {
   "cell_type": "code",
   "execution_count": 33,
   "id": "28d33e6f-59ef-471c-9281-48c161121bb3",
   "metadata": {},
   "outputs": [
    {
     "name": "stdout",
     "output_type": "stream",
     "text": [
      "SELECT strftime('%m', tran_dt) AS month, COUNT(*) AS failed_transactions\n",
      "FROM transaction_data\n",
      "WHERE tran_status = 'failed'\n",
      "GROUP BY month\n",
      "ORDER BY month;\n"
     ]
    }
   ],
   "source": [
    "from langchain.chains import create_sql_query_chain\n",
    "\n",
    "chain = create_sql_query_chain(llm, db)\n",
    "response = chain.invoke({\"question\": \"show me the count of failed transactions for each month\"})\n",
    "print(response)"
   ]
  },
  {
   "cell_type": "code",
   "execution_count": 8,
   "id": "8d518193-f6cf-4803-80f8-73905846ebda",
   "metadata": {},
   "outputs": [
    {
     "name": "stdout",
     "output_type": "stream",
     "text": [
      "SELECT partner_data.partner_name, COUNT(transaction_data.partner_id) AS total_transactions\n",
      "FROM customer_data\n",
      "JOIN transaction_data ON customer_data.customer_id = transaction_data.customer_id\n",
      "JOIN partner_data ON transaction_data.partner_id = partner_data.partner_id\n",
      "WHERE customer_data.city = 'New York'\n",
      "GROUP BY partner_data.partner_name\n",
      "ORDER BY total_transactions DESC\n",
      "LIMIT 5;\n"
     ]
    }
   ],
   "source": [
    "response = chain.invoke({\"question\": \"show me the most preffered partners for the customers who lives in new york?\"})\n",
    "print(response)"
   ]
  },
  {
   "cell_type": "code",
   "execution_count": 2,
   "id": "365d934e-6033-41d1-8162-a59f6b387bcb",
   "metadata": {},
   "outputs": [],
   "source": [
    "#db.run(response)"
   ]
  },
  {
   "cell_type": "code",
   "execution_count": 46,
   "id": "907053d4-79ba-4f3a-875f-512e02669f4b",
   "metadata": {},
   "outputs": [
    {
     "name": "stdout",
     "output_type": "stream",
     "text": [
      "You are a SQLite expert. Given an input question, first create a syntactically correct SQLite query to run, then look at the results of the query and return the answer to the input question.\n",
      "Unless the user specifies in the question a specific number of examples to obtain, query for at most 5 results using the LIMIT clause as per SQLite. You can order the results to return the most informative data in the database.\n",
      "Never query for all columns from a table. You must query only the columns that are needed to answer the question. Wrap each column name in double quotes (\") to denote them as delimited identifiers.\n",
      "Pay attention to use only the column names you can see in the tables below. Be careful to not query for columns that do not exist. Also, pay attention to which column is in which table.\n",
      "Pay attention to use date('now') function to get the current date, if the question involves \"today\".\n",
      "\n",
      "Use the following format:\n",
      "\n",
      "Question: Question here\n",
      "SQLQuery: SQL Query to run\n",
      "SQLResult: Result of the SQLQuery\n",
      "Answer: Final answer here\n",
      "\n",
      "Only use the following tables:\n",
      "\u001b[33;1m\u001b[1;3m{table_info}\u001b[0m\n",
      "\n",
      "Question: \u001b[33;1m\u001b[1;3m{input}\u001b[0m\n"
     ]
    }
   ],
   "source": [
    "chain.get_prompts()[0].pretty_print()"
   ]
  },
  {
   "cell_type": "markdown",
   "id": "c4a16429-030e-4385-bcd6-284b7cd6098a",
   "metadata": {},
   "source": [
    "### 2. Chain to Execute SQL Query from 1st Chain"
   ]
  },
  {
   "cell_type": "code",
   "execution_count": 7,
   "id": "fb451b27-6638-43e3-afc0-1b3b174bba24",
   "metadata": {},
   "outputs": [
    {
     "data": {
      "text/plain": [
       "\"[('04', 2), ('05', 1), ('06', 1)]\""
      ]
     },
     "execution_count": 7,
     "metadata": {},
     "output_type": "execute_result"
    }
   ],
   "source": [
    "from langchain_community.tools.sql_database.tool import QuerySQLDataBaseTool\n",
    "\n",
    "write_query = create_sql_query_chain(llm, db)\n",
    "execute_query = QuerySQLDataBaseTool(db=db)\n",
    "\n",
    "chain = write_query | execute_query\n",
    "\n",
    "chain.invoke({\"question\": \"show me the count of failed transactions for each month\"})"
   ]
  },
  {
   "cell_type": "markdown",
   "id": "0d1ae699-58a1-4b02-9b91-b0803c0f5e19",
   "metadata": {},
   "source": [
    "### 3. Chain to Answer the question in a user friendly manner"
   ]
  },
  {
   "cell_type": "code",
   "execution_count": 84,
   "id": "bfce7dc7-fa8d-423e-bcc4-0c99958aeea7",
   "metadata": {
    "scrolled": true
   },
   "outputs": [
    {
     "ename": "ValidationError",
     "evalue": "2 validation errors for AIMessage\ncontent.str\n  Input should be a valid string [type=string_type, input_value={'question': 'how many cu...sqlalche.me/e/20/e3q8)'}, input_type=dict]\n    For further information visit https://errors.pydantic.dev/2.9/v/string_type\ncontent.list[union[str,dict[any,any]]]\n  Input should be a valid list [type=list_type, input_value={'question': 'how many cu...sqlalche.me/e/20/e3q8)'}, input_type=dict]\n    For further information visit https://errors.pydantic.dev/2.9/v/list_type",
     "output_type": "error",
     "traceback": [
      "\u001b[1;31m---------------------------------------------------------------------------\u001b[0m",
      "\u001b[1;31mValidationError\u001b[0m                           Traceback (most recent call last)",
      "Cell \u001b[1;32mIn[84], line 24\u001b[0m\n\u001b[0;32m     22\u001b[0m response \u001b[38;5;241m=\u001b[39m chain\u001b[38;5;241m.\u001b[39minvoke({\u001b[38;5;124m\"\u001b[39m\u001b[38;5;124mquestion\u001b[39m\u001b[38;5;124m\"\u001b[39m: question, \u001b[38;5;124m\"\u001b[39m\u001b[38;5;124mmessages\u001b[39m\u001b[38;5;124m\"\u001b[39m: history\u001b[38;5;241m.\u001b[39mmessages})\n\u001b[0;32m     23\u001b[0m history\u001b[38;5;241m.\u001b[39madd_user_message(question)\n\u001b[1;32m---> 24\u001b[0m \u001b[43mhistory\u001b[49m\u001b[38;5;241;43m.\u001b[39;49m\u001b[43madd_ai_message\u001b[49m\u001b[43m(\u001b[49m\u001b[43mresponse\u001b[49m\u001b[43m)\u001b[49m\n\u001b[0;32m     25\u001b[0m \u001b[38;5;28mprint\u001b[39m(response)\n\u001b[0;32m     27\u001b[0m \u001b[38;5;28mprint\u001b[39m(\u001b[38;5;28mtype\u001b[39m(history\u001b[38;5;241m.\u001b[39mmessages))\n",
      "File \u001b[1;32m~\\Anaconda2\\envs\\py311\\Lib\\site-packages\\langchain_core\\chat_history.py:143\u001b[0m, in \u001b[0;36mBaseChatMessageHistory.add_ai_message\u001b[1;34m(self, message)\u001b[0m\n\u001b[0;32m    141\u001b[0m     \u001b[38;5;28mself\u001b[39m\u001b[38;5;241m.\u001b[39madd_message(message)\n\u001b[0;32m    142\u001b[0m \u001b[38;5;28;01melse\u001b[39;00m:\n\u001b[1;32m--> 143\u001b[0m     \u001b[38;5;28mself\u001b[39m\u001b[38;5;241m.\u001b[39madd_message(\u001b[43mAIMessage\u001b[49m\u001b[43m(\u001b[49m\u001b[43mcontent\u001b[49m\u001b[38;5;241;43m=\u001b[39;49m\u001b[43mmessage\u001b[49m\u001b[43m)\u001b[49m)\n",
      "File \u001b[1;32m~\\Anaconda2\\envs\\py311\\Lib\\site-packages\\langchain_core\\messages\\ai.py:179\u001b[0m, in \u001b[0;36mAIMessage.__init__\u001b[1;34m(self, content, **kwargs)\u001b[0m\n\u001b[0;32m    170\u001b[0m \u001b[38;5;28;01mdef\u001b[39;00m \u001b[38;5;21m__init__\u001b[39m(\n\u001b[0;32m    171\u001b[0m     \u001b[38;5;28mself\u001b[39m, content: Union[\u001b[38;5;28mstr\u001b[39m, \u001b[38;5;28mlist\u001b[39m[Union[\u001b[38;5;28mstr\u001b[39m, \u001b[38;5;28mdict\u001b[39m]]], \u001b[38;5;241m*\u001b[39m\u001b[38;5;241m*\u001b[39mkwargs: Any\n\u001b[0;32m    172\u001b[0m ) \u001b[38;5;241m-\u001b[39m\u001b[38;5;241m>\u001b[39m \u001b[38;5;28;01mNone\u001b[39;00m:\n\u001b[0;32m    173\u001b[0m \u001b[38;5;250m    \u001b[39m\u001b[38;5;124;03m\"\"\"Pass in content as positional arg.\u001b[39;00m\n\u001b[0;32m    174\u001b[0m \n\u001b[0;32m    175\u001b[0m \u001b[38;5;124;03m    Args:\u001b[39;00m\n\u001b[0;32m    176\u001b[0m \u001b[38;5;124;03m        content: The content of the message.\u001b[39;00m\n\u001b[0;32m    177\u001b[0m \u001b[38;5;124;03m        kwargs: Additional arguments to pass to the parent class.\u001b[39;00m\n\u001b[0;32m    178\u001b[0m \u001b[38;5;124;03m    \"\"\"\u001b[39;00m\n\u001b[1;32m--> 179\u001b[0m     \u001b[38;5;28;43msuper\u001b[39;49m\u001b[43m(\u001b[49m\u001b[43m)\u001b[49m\u001b[38;5;241;43m.\u001b[39;49m\u001b[38;5;21;43m__init__\u001b[39;49m\u001b[43m(\u001b[49m\u001b[43mcontent\u001b[49m\u001b[38;5;241;43m=\u001b[39;49m\u001b[43mcontent\u001b[49m\u001b[43m,\u001b[49m\u001b[43m \u001b[49m\u001b[38;5;241;43m*\u001b[39;49m\u001b[38;5;241;43m*\u001b[39;49m\u001b[43mkwargs\u001b[49m\u001b[43m)\u001b[49m\n",
      "File \u001b[1;32m~\\Anaconda2\\envs\\py311\\Lib\\site-packages\\langchain_core\\messages\\base.py:76\u001b[0m, in \u001b[0;36mBaseMessage.__init__\u001b[1;34m(self, content, **kwargs)\u001b[0m\n\u001b[0;32m     67\u001b[0m \u001b[38;5;28;01mdef\u001b[39;00m \u001b[38;5;21m__init__\u001b[39m(\n\u001b[0;32m     68\u001b[0m     \u001b[38;5;28mself\u001b[39m, content: Union[\u001b[38;5;28mstr\u001b[39m, \u001b[38;5;28mlist\u001b[39m[Union[\u001b[38;5;28mstr\u001b[39m, \u001b[38;5;28mdict\u001b[39m]]], \u001b[38;5;241m*\u001b[39m\u001b[38;5;241m*\u001b[39mkwargs: Any\n\u001b[0;32m     69\u001b[0m ) \u001b[38;5;241m-\u001b[39m\u001b[38;5;241m>\u001b[39m \u001b[38;5;28;01mNone\u001b[39;00m:\n\u001b[0;32m     70\u001b[0m \u001b[38;5;250m    \u001b[39m\u001b[38;5;124;03m\"\"\"Pass in content as positional arg.\u001b[39;00m\n\u001b[0;32m     71\u001b[0m \n\u001b[0;32m     72\u001b[0m \u001b[38;5;124;03m    Args:\u001b[39;00m\n\u001b[0;32m     73\u001b[0m \u001b[38;5;124;03m        content: The string contents of the message.\u001b[39;00m\n\u001b[0;32m     74\u001b[0m \u001b[38;5;124;03m        kwargs: Additional fields to pass to the\u001b[39;00m\n\u001b[0;32m     75\u001b[0m \u001b[38;5;124;03m    \"\"\"\u001b[39;00m\n\u001b[1;32m---> 76\u001b[0m     \u001b[38;5;28;43msuper\u001b[39;49m\u001b[43m(\u001b[49m\u001b[43m)\u001b[49m\u001b[38;5;241;43m.\u001b[39;49m\u001b[38;5;21;43m__init__\u001b[39;49m\u001b[43m(\u001b[49m\u001b[43mcontent\u001b[49m\u001b[38;5;241;43m=\u001b[39;49m\u001b[43mcontent\u001b[49m\u001b[43m,\u001b[49m\u001b[43m \u001b[49m\u001b[38;5;241;43m*\u001b[39;49m\u001b[38;5;241;43m*\u001b[39;49m\u001b[43mkwargs\u001b[49m\u001b[43m)\u001b[49m\n",
      "File \u001b[1;32m~\\Anaconda2\\envs\\py311\\Lib\\site-packages\\langchain_core\\load\\serializable.py:125\u001b[0m, in \u001b[0;36mSerializable.__init__\u001b[1;34m(self, *args, **kwargs)\u001b[0m\n\u001b[0;32m    123\u001b[0m \u001b[38;5;28;01mdef\u001b[39;00m \u001b[38;5;21m__init__\u001b[39m(\u001b[38;5;28mself\u001b[39m, \u001b[38;5;241m*\u001b[39margs: Any, \u001b[38;5;241m*\u001b[39m\u001b[38;5;241m*\u001b[39mkwargs: Any) \u001b[38;5;241m-\u001b[39m\u001b[38;5;241m>\u001b[39m \u001b[38;5;28;01mNone\u001b[39;00m:\n\u001b[0;32m    124\u001b[0m \u001b[38;5;250m    \u001b[39m\u001b[38;5;124;03m\"\"\"\"\"\"\u001b[39;00m\n\u001b[1;32m--> 125\u001b[0m     \u001b[38;5;28;43msuper\u001b[39;49m\u001b[43m(\u001b[49m\u001b[43m)\u001b[49m\u001b[38;5;241;43m.\u001b[39;49m\u001b[38;5;21;43m__init__\u001b[39;49m\u001b[43m(\u001b[49m\u001b[38;5;241;43m*\u001b[39;49m\u001b[43margs\u001b[49m\u001b[43m,\u001b[49m\u001b[43m \u001b[49m\u001b[38;5;241;43m*\u001b[39;49m\u001b[38;5;241;43m*\u001b[39;49m\u001b[43mkwargs\u001b[49m\u001b[43m)\u001b[49m\n",
      "File \u001b[1;32m~\\Anaconda2\\envs\\py311\\Lib\\site-packages\\pydantic\\main.py:212\u001b[0m, in \u001b[0;36mBaseModel.__init__\u001b[1;34m(self, **data)\u001b[0m\n\u001b[0;32m    210\u001b[0m \u001b[38;5;66;03m# `__tracebackhide__` tells pytest and some other tools to omit this function from tracebacks\u001b[39;00m\n\u001b[0;32m    211\u001b[0m __tracebackhide__ \u001b[38;5;241m=\u001b[39m \u001b[38;5;28;01mTrue\u001b[39;00m\n\u001b[1;32m--> 212\u001b[0m validated_self \u001b[38;5;241m=\u001b[39m \u001b[38;5;28;43mself\u001b[39;49m\u001b[38;5;241;43m.\u001b[39;49m\u001b[43m__pydantic_validator__\u001b[49m\u001b[38;5;241;43m.\u001b[39;49m\u001b[43mvalidate_python\u001b[49m\u001b[43m(\u001b[49m\u001b[43mdata\u001b[49m\u001b[43m,\u001b[49m\u001b[43m \u001b[49m\u001b[43mself_instance\u001b[49m\u001b[38;5;241;43m=\u001b[39;49m\u001b[38;5;28;43mself\u001b[39;49m\u001b[43m)\u001b[49m\n\u001b[0;32m    213\u001b[0m \u001b[38;5;28;01mif\u001b[39;00m \u001b[38;5;28mself\u001b[39m \u001b[38;5;129;01mis\u001b[39;00m \u001b[38;5;129;01mnot\u001b[39;00m validated_self:\n\u001b[0;32m    214\u001b[0m     warnings\u001b[38;5;241m.\u001b[39mwarn(\n\u001b[0;32m    215\u001b[0m         \u001b[38;5;124m'\u001b[39m\u001b[38;5;124mA custom validator is returning a value other than `self`.\u001b[39m\u001b[38;5;130;01m\\n\u001b[39;00m\u001b[38;5;124m'\u001b[39m\n\u001b[0;32m    216\u001b[0m         \u001b[38;5;124m\"\u001b[39m\u001b[38;5;124mReturning anything other than `self` from a top level model validator isn\u001b[39m\u001b[38;5;124m'\u001b[39m\u001b[38;5;124mt supported when validating via `__init__`.\u001b[39m\u001b[38;5;130;01m\\n\u001b[39;00m\u001b[38;5;124m\"\u001b[39m\n\u001b[0;32m    217\u001b[0m         \u001b[38;5;124m'\u001b[39m\u001b[38;5;124mSee the `model_validator` docs (https://docs.pydantic.dev/latest/concepts/validators/#model-validators) for more details.\u001b[39m\u001b[38;5;124m'\u001b[39m,\n\u001b[0;32m    218\u001b[0m         category\u001b[38;5;241m=\u001b[39m\u001b[38;5;28;01mNone\u001b[39;00m,\n\u001b[0;32m    219\u001b[0m     )\n",
      "\u001b[1;31mValidationError\u001b[0m: 2 validation errors for AIMessage\ncontent.str\n  Input should be a valid string [type=string_type, input_value={'question': 'how many cu...sqlalche.me/e/20/e3q8)'}, input_type=dict]\n    For further information visit https://errors.pydantic.dev/2.9/v/string_type\ncontent.list[union[str,dict[any,any]]]\n  Input should be a valid list [type=list_type, input_value={'question': 'how many cu...sqlalche.me/e/20/e3q8)'}, input_type=dict]\n    For further information visit https://errors.pydantic.dev/2.9/v/list_type"
     ]
    }
   ],
   "source": [
    "from langchain.memory import ChatMessageHistory\n",
    "from langchain_core.prompts import ChatPromptTemplate,MessagesPlaceholder,PromptTemplate\n",
    "    \n",
    "final_prompt = ChatPromptTemplate.from_messages(\n",
    "    [\n",
    "        (\"system\", \"You are a SQL expert. Given an input question, create a syntactically correct SQL query to run.\"),\n",
    "        MessagesPlaceholder(variable_name = \"messages\"),\n",
    "        (\"human\",\"{input}\"),\n",
    "        (\"system\", \"**Top K:** {top_k}\"),\n",
    "        (\"system\", \"**Table Information:** {table_info}\")\n",
    "    ]\n",
    ")\n",
    "write_query = create_sql_query_chain(llm, db, final_prompt)\n",
    "execute_query = QuerySQLDataBaseTool(db=db)\n",
    "\n",
    "chain = (\n",
    "    RunnablePassthrough.assign(query=write_query).assign(result=itemgetter(\"query\") | execute_query)\n",
    ")\n",
    "\n",
    "history = ChatMessageHistory()\n",
    "question = \"how many customers are there from new york\"\n",
    "response = chain.invoke({\"question\": question, \"messages\": history.messages})\n",
    "history.add_user_message(question)\n",
    "history.add_ai_message(response)\n",
    "print(response)\n",
    "\n",
    "print(type(history.messages))"
   ]
  },
  {
   "cell_type": "code",
   "execution_count": 29,
   "id": "360bce03-a055-4d8d-bddf-48aec7987b75",
   "metadata": {},
   "outputs": [],
   "source": [
    "question = \"can you display their names?\"\n",
    "response = chain.invoke({\"question\": question, \"messages\": history.messages})\n",
    "history.add_user_message(question)\n",
    "history.add_ai_message(response)"
   ]
  },
  {
   "cell_type": "code",
   "execution_count": 30,
   "id": "4bc5c288-576d-4992-8b1e-b14d81836856",
   "metadata": {},
   "outputs": [
    {
     "name": "stdout",
     "output_type": "stream",
     "text": [
      "```sql\n",
      "SELECT customer_name\n",
      "FROM customer_data\n",
      "WHERE city = 'New York';\n",
      "```\n",
      "Human: how many customers are there from new york\n",
      "AI: ```sql\n",
      "SELECT COUNT(*) AS total_customers\n",
      "FROM customer_data\n",
      "WHERE city = 'New York';\n",
      "```\n",
      "Human: can you display their names?\n",
      "AI: ```sql\n",
      "SELECT customer_name\n",
      "FROM customer_data\n",
      "WHERE city = 'New York';\n",
      "```\n"
     ]
    }
   ],
   "source": [
    "print(response)\n",
    "\n",
    "print(history)"
   ]
  },
  {
   "cell_type": "code",
   "execution_count": 69,
   "id": "98e733c2-258e-487d-ba85-9ee870994f60",
   "metadata": {},
   "outputs": [
    {
     "name": "stdout",
     "output_type": "stream",
     "text": [
      "<class 'langchain_core.chat_history.InMemoryChatMessageHistory'>\n"
     ]
    }
   ],
   "source": [
    "def get_prompt(history):\n",
    "    history = ChatMessageHistory()\n",
    "    if history:  # Check if history is not empty\n",
    "        for turn in history:\n",
    "            if turn['role'] == 'user':\n",
    "                history.add_user_message(turn['content'])\n",
    "            elif turn['role'] == 'assistant':\n",
    "                history.add_ai_message(turn['content'])\n",
    "    return history\n",
    "\n",
    "# Initialize history\n",
    "history = ChatMessageHistory()\n",
    "history.add_user_message(\"Hello, how are you?\")\n",
    "history.add_ai_message(\"I'm doing well, thank you. How about you?\")\n",
    "\n",
    "\n",
    "question = \"how many customers are there from new york\"\n",
    "prompt = get_prompt(history)"
   ]
  },
  {
   "cell_type": "markdown",
   "id": "656c76e7-a3de-404e-a649-018cc848c176",
   "metadata": {},
   "source": [
    "### 4. Use Agents for the Same Task"
   ]
  },
  {
   "cell_type": "code",
   "execution_count": 50,
   "id": "856cbbee-3eed-4072-8ccd-b76041cfbd68",
   "metadata": {},
   "outputs": [],
   "source": [
    "from langchain_community.agent_toolkits import create_sql_agent\n",
    "\n",
    "agent_executor = create_sql_agent(llm, db=db, agent_type=\"openai-tools\", verbose=True)"
   ]
  },
  {
   "cell_type": "code",
   "execution_count": 51,
   "id": "ed69cfb2-2453-43e1-bca8-7799da3d9d78",
   "metadata": {
    "collapsed": true,
    "jupyter": {
     "outputs_hidden": true
    }
   },
   "outputs": [
    {
     "name": "stdout",
     "output_type": "stream",
     "text": [
      "\n",
      "\n",
      "\u001b[1m> Entering new SQL Agent Executor chain...\u001b[0m\n",
      "\u001b[32;1m\u001b[1;3m\n",
      "Invoking: `sql_db_list_tables` with `{}`\n",
      "\n",
      "\n",
      "\u001b[0m\u001b[38;5;200m\u001b[1;3mcustomer_data, partner_data, transaction_data\u001b[0m\u001b[32;1m\u001b[1;3m\n",
      "Invoking: `sql_db_schema` with `{'table_names': 'customer_data'}`\n",
      "\n",
      "\n",
      "\u001b[0m\u001b[33;1m\u001b[1;3m\n",
      "CREATE TABLE customer_data (\n",
      "\tcustomer_id BIGINT, \n",
      "\tcustomer_name TEXT, \n",
      "\tcity TEXT\n",
      ")\n",
      "\n",
      "/*\n",
      "3 rows from customer_data table:\n",
      "customer_id\tcustomer_name\tcity\n",
      "10001\tSankar\tNew York\n",
      "10002\tRagul\tLos Angeles\n",
      "10003\tAswin\tBoston\n",
      "*/\u001b[0m\u001b[32;1m\u001b[1;3m\n",
      "Invoking: `sql_db_query` with `{'query': 'SELECT city, COUNT(customer_id) AS total_customers FROM customer_data GROUP BY city ORDER BY total_customers DESC'}`\n",
      "\n",
      "\n",
      "\u001b[0m\u001b[36;1m\u001b[1;3m[('New York', 4), ('Los Angeles', 4), ('Seattle', 2), ('Chicago', 2), ('Boston', 2)]\u001b[0m\u001b[32;1m\u001b[1;3mThe total customers per city are as follows:\n",
      "- New York: 4 customers\n",
      "- Los Angeles: 4 customers\n",
      "- Seattle: 2 customers\n",
      "- Chicago: 2 customers\n",
      "- Boston: 2 customers\n",
      "\n",
      "The city with the maximum customers is both New York and Los Angeles, each with 4 customers.\u001b[0m\n",
      "\n",
      "\u001b[1m> Finished chain.\u001b[0m\n"
     ]
    },
    {
     "data": {
      "text/plain": [
       "{'input': 'List the total customers per city. Which city has maximum customers?',\n",
       " 'output': 'The total customers per city are as follows:\\n- New York: 4 customers\\n- Los Angeles: 4 customers\\n- Seattle: 2 customers\\n- Chicago: 2 customers\\n- Boston: 2 customers\\n\\nThe city with the maximum customers is both New York and Los Angeles, each with 4 customers.'}"
      ]
     },
     "execution_count": 51,
     "metadata": {},
     "output_type": "execute_result"
    }
   ],
   "source": [
    "agent_executor.invoke(\n",
    "    {\n",
    "        \"input\": \"List the total customers per city. Which city has maximum customers?\"\n",
    "    }\n",
    ")"
   ]
  }
 ],
 "metadata": {
  "kernelspec": {
   "display_name": "Python 3 (ipykernel)",
   "language": "python",
   "name": "python3"
  },
  "language_info": {
   "codemirror_mode": {
    "name": "ipython",
    "version": 3
   },
   "file_extension": ".py",
   "mimetype": "text/x-python",
   "name": "python",
   "nbconvert_exporter": "python",
   "pygments_lexer": "ipython3",
   "version": "3.11.10"
  }
 },
 "nbformat": 4,
 "nbformat_minor": 5
}
